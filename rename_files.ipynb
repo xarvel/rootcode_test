{
  "nbformat": 4,
  "nbformat_minor": 0,
  "metadata": {
    "colab": {
      "provenance": [],
      "collapsed_sections": [],
      "authorship_tag": "ABX9TyMvidpui8DmKieAU8zklEwY",
      "include_colab_link": true
    },
    "kernelspec": {
      "name": "python3",
      "display_name": "Python 3"
    },
    "language_info": {
      "name": "python"
    }
  },
  "cells": [
    {
      "cell_type": "markdown",
      "metadata": {
        "id": "view-in-github",
        "colab_type": "text"
      },
      "source": [
        "<a href=\"https://colab.research.google.com/github/xarvel/rootcode_test/blob/main/rename_files.ipynb\" target=\"_parent\"><img src=\"https://colab.research.google.com/assets/colab-badge.svg\" alt=\"Open In Colab\"/></a>"
      ]
    },
    {
      "cell_type": "code",
      "execution_count": null,
      "metadata": {
        "id": "v0BLzDwryLlv"
      },
      "outputs": [],
      "source": [
        "import re\n",
        "import os\n",
        "import json\n",
        "\n",
        "directory = 'dir';\n",
        "regex = r'^(.+)\\_(.+)\\_(.+)\\.pdf$'\n",
        "files = [f for f in os.listdir(directory) if re.match(regex, f)]\n",
        "listChanges = []\n",
        "\n",
        "for file in files:\n",
        "  x = re.search(regex, file)\n",
        "\n",
        "  if 'J' in x[3] or 'j' in x[3]:\n",
        "    continue;\n",
        "\n",
        "  newFileName = x[3] + '_' +  x[1] + '_' + x[2] + '.pdf';\n",
        "  oldFilePath = os.path.join(directory, file)\n",
        "  newFilePath = os.path.join(directory, newFileName)\n",
        "\n",
        "  listChanges.append({\n",
        "      \"oldName\": file,\n",
        "      \"newName\": newFileName,\n",
        "      \"a\": x[1],\n",
        "      'b': x[2],\n",
        "      'c': x[3],\n",
        "  })\n",
        "\n",
        "  os.rename(oldFilePath, newFilePath)\n",
        "\n",
        "with open('changes.json', 'w') as f:\n",
        "    json.dump(listChanges, f)"
      ]
    }
  ]
}